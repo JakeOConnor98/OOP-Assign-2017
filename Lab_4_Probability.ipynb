{
 "cells": [
  {
   "cell_type": "code",
   "execution_count": 1,
   "metadata": {
    "collapsed": false
   },
   "outputs": [
    {
     "data": {
      "text/plain": [
       "0.4099723588638108"
      ]
     },
     "execution_count": 1,
     "metadata": {},
     "output_type": "execute_result"
    }
   ],
   "source": [
    "import random\n",
    "\n",
    "random.random()"
   ]
  },
  {
   "cell_type": "code",
   "execution_count": 2,
   "metadata": {
    "collapsed": false
   },
   "outputs": [
    {
     "ename": "SyntaxError",
     "evalue": "invalid syntax (<ipython-input-2-378945e323f4>, line 6)",
     "output_type": "error",
     "traceback": [
      "\u001b[1;36m  File \u001b[1;32m\"<ipython-input-2-378945e323f4>\"\u001b[1;36m, line \u001b[1;32m6\u001b[0m\n\u001b[1;33m    with replacement the probabilities dont change without replacement they do\u001b[0m\n\u001b[1;37m                       ^\u001b[0m\n\u001b[1;31mSyntaxError\u001b[0m\u001b[1;31m:\u001b[0m invalid syntax\n"
     ]
    }
   ],
   "source": [
    "[r,r]\n",
    "[r,b]\n",
    "[b,r]\n",
    "[b,b]\n",
    "\n",
    "with replacement the probabilities dont change without replacement they do"
   ]
  },
  {
   "cell_type": "code",
   "execution_count": 3,
   "metadata": {
    "collapsed": false
   },
   "outputs": [
    {
     "ename": "SyntaxError",
     "evalue": "invalid syntax (<ipython-input-3-44f5b20bc91a>, line 1)",
     "output_type": "error",
     "traceback": [
      "\u001b[1;36m  File \u001b[1;32m\"<ipython-input-3-44f5b20bc91a>\"\u001b[1;36m, line \u001b[1;32m1\u001b[0m\n\u001b[1;33m    probability of red first is 8/12 of blue first is 4/12\u001b[0m\n\u001b[1;37m                 ^\u001b[0m\n\u001b[1;31mSyntaxError\u001b[0m\u001b[1;31m:\u001b[0m invalid syntax\n"
     ]
    }
   ],
   "source": [
    "probability of red first is 8/12 of blue first is 4/12\n",
    "probability of blue first is 4/12\n",
    "\n",
    "probability of red having selected a red first is 7/11\n",
    "\n",
    "probability of [R,R] is (8/12)*(7/11) ->56/132"
   ]
  },
  {
   "cell_type": "code",
   "execution_count": null,
   "metadata": {
    "collapsed": true
   },
   "outputs": [],
   "source": []
  },
  {
   "cell_type": "code",
   "execution_count": 4,
   "metadata": {
    "collapsed": false
   },
   "outputs": [
    {
     "name": "stdout",
     "output_type": "stream",
     "text": [
      "the first marble was red\n"
     ]
    }
   ],
   "source": [
    "if random.random() < 8/12:\n",
    "    print(\"the first marble was red\")"
   ]
  },
  {
   "cell_type": "code",
   "execution_count": 5,
   "metadata": {
    "collapsed": false
   },
   "outputs": [
    {
     "ename": "IndentationError",
     "evalue": "expected an indented block (<ipython-input-5-74b1dadb31d6>, line 3)",
     "output_type": "error",
     "traceback": [
      "\u001b[1;36m  File \u001b[1;32m\"<ipython-input-5-74b1dadb31d6>\"\u001b[1;36m, line \u001b[1;32m3\u001b[0m\n\u001b[1;33m    print(\"the first marble was red\")\u001b[0m\n\u001b[1;37m        ^\u001b[0m\n\u001b[1;31mIndentationError\u001b[0m\u001b[1;31m:\u001b[0m expected an indented block\n"
     ]
    }
   ],
   "source": [
    "for i in range(10):\n",
    "    if random.random() < 8/12:\n",
    "    print(\"the first marble was red\")"
   ]
  },
  {
   "cell_type": "code",
   "execution_count": 6,
   "metadata": {
    "collapsed": false
   },
   "outputs": [
    {
     "name": "stdout",
     "output_type": "stream",
     "text": [
      "the first marble was red\n",
      "the first marble was red\n",
      "the first marble was red\n",
      "the first marble was red\n",
      "the first marble was red\n",
      "the first marble was red\n",
      "the first marble was red\n",
      "the first marble was red\n"
     ]
    }
   ],
   "source": [
    "for i in range(10):\n",
    "    if random.random() < 8/12:\n",
    "        print(\"the first marble was red\")"
   ]
  },
  {
   "cell_type": "code",
   "execution_count": 7,
   "metadata": {
    "collapsed": false
   },
   "outputs": [
    {
     "name": "stdout",
     "output_type": "stream",
     "text": [
      "0.0007\n"
     ]
    }
   ],
   "source": [
    "# int num_red\n",
    "num_red = 0 \n",
    "for i in range(10):\n",
    "    if random.random() < 8/12:\n",
    "        num_red += 1\n",
    "print(num_red/10000)\n",
    "      \n"
   ]
  },
  {
   "cell_type": "code",
   "execution_count": 8,
   "metadata": {
    "collapsed": false
   },
   "outputs": [
    {
     "name": "stdout",
     "output_type": "stream",
     "text": [
      "0.8\n"
     ]
    }
   ],
   "source": [
    "num_iterns = 10\n",
    "num_red = 0 \n",
    "for i in range(num_iterns):\n",
    "    if random.random() < 8/12:\n",
    "        num_red += 1\n",
    "print(num_red/num_iterns)     "
   ]
  },
  {
   "cell_type": "code",
   "execution_count": 10,
   "metadata": {
    "collapsed": false
   },
   "outputs": [
    {
     "name": "stdout",
     "output_type": "stream",
     "text": [
      "0.6689\n"
     ]
    }
   ],
   "source": [
    "num_iterns = 10000\n",
    "num_red = 0 \n",
    "for i in range(num_iterns):\n",
    "    if random.random() < 8/12:\n",
    "        num_red += 1\n",
    "print(num_red/num_iterns)  "
   ]
  },
  {
   "cell_type": "code",
   "execution_count": 34,
   "metadata": {
    "collapsed": false
   },
   "outputs": [
    {
     "name": "stdout",
     "output_type": "stream",
     "text": [
      "0.66666\n"
     ]
    }
   ],
   "source": [
    "# introduce variables for the number of red_marbles\n",
    "# and the total number\n",
    "\n",
    "iterations = 100000\n",
    "num_red = 8\n",
    "num_marbles = 12\n",
    "red_count = 0\n",
    "for i in range(iterations):\n",
    "    if random.random() < num_red/num_marbles:\n",
    "        red_count += 1\n",
    "print(red_count/iterations)   \n"
   ]
  },
  {
   "cell_type": "code",
   "execution_count": 37,
   "metadata": {
    "collapsed": false
   },
   "outputs": [
    {
     "name": "stdout",
     "output_type": "stream",
     "text": [
      "0.42708\n"
     ]
    }
   ],
   "source": [
    "iterations = 100000\n",
    "num_red = 8\n",
    "num_marbles = 12\n",
    "red_count = 0\n",
    "for i in range(iterations):\n",
    "    if random.random() < num_red/num_marbles:\n",
    "        if random.random() < (num_red - 1) / (num_marbles - 1):\n",
    "            red_count += 1\n",
    "print(red_count/iterations)   \n"
   ]
  },
  {
   "cell_type": "code",
   "execution_count": 38,
   "metadata": {
    "collapsed": false
   },
   "outputs": [
    {
     "ename": "NameError",
     "evalue": "name 'blue_count' is not defined",
     "output_type": "error",
     "traceback": [
      "\u001b[1;31m---------------------------------------------------------------------------\u001b[0m",
      "\u001b[1;31mNameError\u001b[0m                                 Traceback (most recent call last)",
      "\u001b[1;32m<ipython-input-38-491afcb416e6>\u001b[0m in \u001b[0;36m<module>\u001b[1;34m()\u001b[0m\n\u001b[0;32m      6\u001b[0m     \u001b[1;32mif\u001b[0m \u001b[0mrandom\u001b[0m\u001b[1;33m.\u001b[0m\u001b[0mrandom\u001b[0m\u001b[1;33m(\u001b[0m\u001b[1;33m)\u001b[0m \u001b[1;33m<\u001b[0m \u001b[0mnum_blue\u001b[0m\u001b[1;33m/\u001b[0m\u001b[0mnum_marbles\u001b[0m\u001b[1;33m:\u001b[0m\u001b[1;33m\u001b[0m\u001b[0m\n\u001b[0;32m      7\u001b[0m         \u001b[1;32mif\u001b[0m \u001b[0mrandom\u001b[0m\u001b[1;33m.\u001b[0m\u001b[0mrandom\u001b[0m\u001b[1;33m(\u001b[0m\u001b[1;33m)\u001b[0m \u001b[1;33m<\u001b[0m \u001b[1;33m(\u001b[0m\u001b[0mnum_blue\u001b[0m \u001b[1;33m-\u001b[0m \u001b[1;36m1\u001b[0m\u001b[1;33m)\u001b[0m \u001b[1;33m/\u001b[0m \u001b[1;33m(\u001b[0m\u001b[0mnum_marbles\u001b[0m \u001b[1;33m-\u001b[0m \u001b[1;36m1\u001b[0m\u001b[1;33m)\u001b[0m\u001b[1;33m:\u001b[0m\u001b[1;33m\u001b[0m\u001b[0m\n\u001b[1;32m----> 8\u001b[1;33m             \u001b[0mblue_count\u001b[0m \u001b[1;33m+=\u001b[0m \u001b[1;36m1\u001b[0m\u001b[1;33m\u001b[0m\u001b[0m\n\u001b[0m\u001b[0;32m      9\u001b[0m \u001b[0mprint\u001b[0m\u001b[1;33m(\u001b[0m\u001b[0mblue_count\u001b[0m\u001b[1;33m/\u001b[0m\u001b[0miterations\u001b[0m\u001b[1;33m)\u001b[0m\u001b[1;33m\u001b[0m\u001b[0m\n",
      "\u001b[1;31mNameError\u001b[0m: name 'blue_count' is not defined"
     ]
    }
   ],
   "source": [
    "iterations = 10\n",
    "num_blue = 4\n",
    "num_marbles = 12\n",
    "red_count = 0\n",
    "for i in range(iterations):\n",
    "    if random.random() < num_blue/num_marbles:\n",
    "        if random.random() < (num_blue - 1) / (num_marbles - 1):\n",
    "            blue_count += 1\n",
    "print(blue_count/iterations)   "
   ]
  },
  {
   "cell_type": "code",
   "execution_count": 39,
   "metadata": {
    "collapsed": false
   },
   "outputs": [
    {
     "name": "stdout",
     "output_type": "stream",
     "text": [
      "the first marble was blue\n",
      "the first marble was blue\n",
      "the first marble was blue\n"
     ]
    }
   ],
   "source": [
    "for i in range(10):\n",
    "    if random.random() < 4/12:\n",
    "        print(\"the first marble was blue\")"
   ]
  },
  {
   "cell_type": "code",
   "execution_count": 41,
   "metadata": {
    "collapsed": false
   },
   "outputs": [
    {
     "name": "stdout",
     "output_type": "stream",
     "text": [
      "0.0003\n"
     ]
    }
   ],
   "source": [
    "# int num_blue\n",
    "num_blue = 0 \n",
    "for i in range(10):\n",
    "    if random.random() < 4/12:\n",
    "        num_blue += 1\n",
    "print(num_blue/10000)"
   ]
  },
  {
   "cell_type": "code",
   "execution_count": 42,
   "metadata": {
    "collapsed": false
   },
   "outputs": [
    {
     "name": "stdout",
     "output_type": "stream",
     "text": [
      "0.2\n"
     ]
    }
   ],
   "source": [
    "num_iterns = 10\n",
    "num_blue = 0 \n",
    "for i in range(num_iterns):\n",
    "    if random.random() < 4/12:\n",
    "        num_blue += 1\n",
    "print(num_blue/num_iterns)     "
   ]
  },
  {
   "cell_type": "code",
   "execution_count": 43,
   "metadata": {
    "collapsed": false
   },
   "outputs": [
    {
     "name": "stdout",
     "output_type": "stream",
     "text": [
      "0.3245\n"
     ]
    }
   ],
   "source": [
    "num_iterns = 10000\n",
    "num_blue = 0 \n",
    "for i in range(num_iterns):\n",
    "    if random.random() < 4/12:\n",
    "        num_blue += 1\n",
    "print(num_blue/num_iterns)"
   ]
  },
  {
   "cell_type": "code",
   "execution_count": 44,
   "metadata": {
    "collapsed": false
   },
   "outputs": [
    {
     "name": "stdout",
     "output_type": "stream",
     "text": [
      "0.33171\n"
     ]
    }
   ],
   "source": [
    "# introduce variables for the number of blue_marbles\n",
    "# and the total number\n",
    "\n",
    "iterations = 100000\n",
    "num_blue = 4\n",
    "num_marbles = 12\n",
    "blue_count = 0\n",
    "for i in range(iterations):\n",
    "    if random.random() < num_blue/num_marbles:\n",
    "        blue_count += 1\n",
    "print(blue_count/iterations) "
   ]
  },
  {
   "cell_type": "code",
   "execution_count": 45,
   "metadata": {
    "collapsed": false
   },
   "outputs": [
    {
     "name": "stdout",
     "output_type": "stream",
     "text": [
      "0.09289\n"
     ]
    }
   ],
   "source": [
    "iterations = 100000\n",
    "num_blue = 4\n",
    "num_marbles = 12\n",
    "blue_count = 0\n",
    "for i in range(iterations):\n",
    "    if random.random() < num_blue/num_marbles:\n",
    "        if random.random() < (num_blue - 1) / (num_marbles - 1):\n",
    "            blue_count += 1\n",
    "print(blue_count/iterations) "
   ]
  },
  {
   "cell_type": "code",
   "execution_count": 46,
   "metadata": {
    "collapsed": false
   },
   "outputs": [
    {
     "name": "stdout",
     "output_type": "stream",
     "text": [
      "929.1\n"
     ]
    }
   ],
   "source": [
    "iterations = 10\n",
    "num_blue = 4\n",
    "num_marbles = 12\n",
    "red_count = 0\n",
    "for i in range(iterations):\n",
    "    if random.random() < num_blue/num_marbles:\n",
    "        if random.random() < (num_blue - 1) / (num_marbles - 1):\n",
    "            blue_count += 1\n",
    "print(blue_count/iterations)   "
   ]
  },
  {
   "cell_type": "code",
   "execution_count": null,
   "metadata": {
    "collapsed": true
   },
   "outputs": [],
   "source": []
  }
 ],
 "metadata": {
  "kernelspec": {
   "display_name": "Python 3",
   "language": "python",
   "name": "python3"
  },
  "language_info": {
   "codemirror_mode": {
    "name": "ipython",
    "version": 3
   },
   "file_extension": ".py",
   "mimetype": "text/x-python",
   "name": "python",
   "nbconvert_exporter": "python",
   "pygments_lexer": "ipython3",
   "version": "3.5.1"
  }
 },
 "nbformat": 4,
 "nbformat_minor": 0
}
